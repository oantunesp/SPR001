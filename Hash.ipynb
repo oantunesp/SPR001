{
 "cells": [
  {
   "cell_type": "code",
   "execution_count": 1,
   "metadata": {
    "collapsed": true
   },
   "outputs": [],
   "source": [
    "import hashlib"
   ]
  },
  {
   "cell_type": "markdown",
   "metadata": {},
   "source": [
    "OmirCoin\n",
    "Na OmirCoin os blocks são organizados da seguinte maneira:\n",
    "Hash anterior / usuário que paga / valor / usuário que recebe\n",
    "Obs.: O primeiro Hash será Zero."
   ]
  },
  {
   "cell_type": "code",
   "execution_count": 2,
   "metadata": {
    "collapsed": false
   },
   "outputs": [
    {
     "name": "stdout",
     "output_type": "stream",
     "text": [
      "Quem paga?omir\n",
      "Valor?40\n",
      "Quem recebe?jojima\n",
      "(0, 'omir', '40', 'jojima')\n"
     ]
    }
   ],
   "source": [
    "quemPaga = input(\"Quem paga?\")\n",
    "valor = input(\"Valor?\")\n",
    "quemRecebe = input(\"Quem recebe?\")\n",
    "block001data = 0,quemPaga, valor,quemRecebe\n",
    "block001data = str(block001data)\n",
    "print(block001data)"
   ]
  },
  {
   "cell_type": "code",
   "execution_count": 6,
   "metadata": {
    "collapsed": false
   },
   "outputs": [
    {
     "name": "stdout",
     "output_type": "stream",
     "text": [
      "0779e4087953aff82e46d33d99f23fbc\n"
     ]
    }
   ],
   "source": [
    "block001 = hashlib.md5(block001data.encode('utf-8'))\n",
    "print(block001.hexdigest())"
   ]
  },
  {
   "cell_type": "code",
   "execution_count": 7,
   "metadata": {
    "collapsed": false
   },
   "outputs": [
    {
     "name": "stdout",
     "output_type": "stream",
     "text": [
      "Quem paga?jojima\n",
      "Valor?20\n",
      "Quem recebe?felix\n",
      "('0779e4087953aff82e46d33d99f23fbc', 'jojima', '20', 'felix')\n"
     ]
    }
   ],
   "source": [
    "quemPaga = input(\"Quem paga?\")\n",
    "valor = input(\"Valor?\")\n",
    "quemRecebe = input(\"Quem recebe?\")\n",
    "block002data = block001.hexdigest(),quemPaga, valor,quemRecebe\n",
    "block002data = str(block002data)\n",
    "print(block002data)"
   ]
  },
  {
   "cell_type": "code",
   "execution_count": 18,
   "metadata": {
    "collapsed": false
   },
   "outputs": [
    {
     "name": "stdout",
     "output_type": "stream",
     "text": [
      "aaefd141ab87b8373e9a100bb6221891\n"
     ]
    }
   ],
   "source": [
    "block002 = hashlib.md5(block002data.encode('utf-8'))\n",
    "print(block002.hexdigest())"
   ]
  },
  {
   "cell_type": "code",
   "execution_count": 19,
   "metadata": {
    "collapsed": false
   },
   "outputs": [
    {
     "name": "stdout",
     "output_type": "stream",
     "text": [
      "Quem paga?omir\n",
      "Valor?20\n",
      "Quem recebe?felix\n",
      "('aaefd141ab87b8373e9a100bb6221891', 'omir', '20', 'felix')\n"
     ]
    }
   ],
   "source": [
    "quemPaga = input(\"Quem paga?\")\n",
    "valor = input(\"Valor?\")\n",
    "quemRecebe = input(\"Quem recebe?\")\n",
    "block003data = block002.hexdigest(),quemPaga, valor,quemRecebe\n",
    "block003data = str(block003data)\n",
    "print(block003data)"
   ]
  },
  {
   "cell_type": "code",
   "execution_count": 20,
   "metadata": {
    "collapsed": false
   },
   "outputs": [
    {
     "name": "stdout",
     "output_type": "stream",
     "text": [
      "(0, 'omir', '40', 'jojima')\n",
      "('0779e4087953aff82e46d33d99f23fbc', 'jojima', '20', 'felix')\n",
      "('aaefd141ab87b8373e9a100bb6221891', 'omir', '20', 'felix')\n"
     ]
    }
   ],
   "source": [
    "print(block001data)\n",
    "print(block002data)\n",
    "print(block003data)"
   ]
  }
 ],
 "metadata": {
  "kernelspec": {
   "display_name": "Python 3",
   "language": "python",
   "name": "python3"
  },
  "language_info": {
   "codemirror_mode": {
    "name": "ipython",
    "version": 3
   },
   "file_extension": ".py",
   "mimetype": "text/x-python",
   "name": "python",
   "nbconvert_exporter": "python",
   "pygments_lexer": "ipython3",
   "version": "3.6.1"
  }
 },
 "nbformat": 4,
 "nbformat_minor": 2
}

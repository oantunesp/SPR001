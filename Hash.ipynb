{
 "cells": [
  {
   "cell_type": "markdown",
   "metadata": {},
   "source": [
    "OmirCoin\n",
    "Na OmirCoin os blocks são organizados da seguinte maneira:\n",
    "Hash anterior / usuário que paga / valor / usuário que recebe\n",
    "Obs.: O primeiro Hash será Zero."
   ]
  },
  {
   "cell_type": "code",
   "execution_count": null,
   "metadata": {
    "collapsed": true
   },
   "outputs": [],
   "source": [
    "import hashlib"
   ]
  },
  {
   "cell_type": "code",
   "execution_count": null,
   "metadata": {
    "collapsed": false
   },
   "outputs": [],
   "source": [
    "quemPaga = input(\"Quem paga?\")\n",
    "valor = input(\"Valor?\")\n",
    "quemRecebe = input(\"Quem recebe?\")\n",
    "block001data = 0,quemPaga, valor,quemRecebe\n",
    "block001data = str(block001data)\n",
    "print(block001data)"
   ]
  },
  {
   "cell_type": "code",
   "execution_count": null,
   "metadata": {
    "collapsed": false
   },
   "outputs": [],
   "source": [
    "block001 = hashlib.md5(block001data.encode('utf-8'))\n",
    "print(block001.hexdigest())"
   ]
  },
  {
   "cell_type": "code",
   "execution_count": null,
   "metadata": {
    "collapsed": false
   },
   "outputs": [],
   "source": [
    "quemPaga = input(\"Quem paga?\")\n",
    "valor = input(\"Valor?\")\n",
    "quemRecebe = input(\"Quem recebe?\")\n",
    "block002data = block001.hexdigest(),quemPaga, valor,quemRecebe\n",
    "block002data = str(block002data)\n",
    "print(block002data)"
   ]
  },
  {
   "cell_type": "code",
   "execution_count": null,
   "metadata": {
    "collapsed": false
   },
   "outputs": [],
   "source": [
    "block002 = hashlib.md5(block002data.encode('utf-8'))\n",
    "print(block002.hexdigest())"
   ]
  },
  {
   "cell_type": "code",
   "execution_count": null,
   "metadata": {
    "collapsed": false
   },
   "outputs": [],
   "source": [
    "quemPaga = input(\"Quem paga?\")\n",
    "valor = input(\"Valor?\")\n",
    "quemRecebe = input(\"Quem recebe?\")\n",
    "block003data = block002.hexdigest(),quemPaga, valor,quemRecebe\n",
    "block003data = str(block003data)\n",
    "print(block003data)"
   ]
  },
  {
   "cell_type": "code",
   "execution_count": null,
   "metadata": {
    "collapsed": false
   },
   "outputs": [],
   "source": [
    "print(block001data)\n",
    "print(block002data)\n",
    "print(block003data)"
   ]
  }
 ],
 "metadata": {
  "kernelspec": {
   "display_name": "Python 3",
   "language": "python",
   "name": "python3"
  },
  "language_info": {
   "codemirror_mode": {
    "name": "ipython",
    "version": 3
   },
   "file_extension": ".py",
   "mimetype": "text/x-python",
   "name": "python",
   "nbconvert_exporter": "python",
   "pygments_lexer": "ipython3",
   "version": "3.6.1"
  }
 },
 "nbformat": 4,
 "nbformat_minor": 2
}
